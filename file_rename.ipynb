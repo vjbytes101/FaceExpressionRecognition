{
 "cells": [
  {
   "cell_type": "code",
   "execution_count": 7,
   "metadata": {},
   "outputs": [],
   "source": [
    "import os\n",
    "for dpath, dnames, fnames in os.walk('C:/Users/Vijay/Isaac/Issac Video/Working_code_on_training_vedios/purl2_coding/train_PURL1'):\n",
    "    for f in fnames:\n",
    "        os.chdir(dpath)\n",
    "        os.rename(f, '111111'+f)"
   ]
  }
 ],
 "metadata": {
  "kernelspec": {
   "display_name": "Python 3",
   "language": "python",
   "name": "python3"
  },
  "language_info": {
   "codemirror_mode": {
    "name": "ipython",
    "version": 3
   },
   "file_extension": ".py",
   "mimetype": "text/x-python",
   "name": "python",
   "nbconvert_exporter": "python",
   "pygments_lexer": "ipython3",
   "version": "3.6.3"
  }
 },
 "nbformat": 4,
 "nbformat_minor": 2
}
