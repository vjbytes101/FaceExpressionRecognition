{
 "cells": [
  {
   "cell_type": "code",
   "execution_count": 1,
   "metadata": {
    "collapsed": true
   },
   "outputs": [],
   "source": [
    "import os\n",
    "import glob\n",
    "import pandas as pd"
   ]
  },
  {
   "cell_type": "code",
   "execution_count": 2,
   "metadata": {
    "collapsed": true
   },
   "outputs": [],
   "source": [
    "#FACS encoding excel sheet location\n",
    "dataset_path = \"C:/Users/Vijay/Isaac/Issac Video/Working_code_on_training_vedios/PURL2/\"\n",
    "dirlist = [ item for item in os.listdir(dataset_path) if os.path.isdir(os.path.join(dataset_path, item)) ]"
   ]
  },
  {
   "cell_type": "code",
   "execution_count": 3,
   "metadata": {
    "collapsed": true
   },
   "outputs": [],
   "source": [
    "#read all the files which are present within the data-set(FACS Encoding)\n",
    "file_location = []\n",
    "for i in range(len(dirlist)):\n",
    "    new_dataset_path = dataset_path + dirlist[i] + \"/\"\n",
    "    for filenames in os.listdir(new_dataset_path):\n",
    "        file_location.append(new_dataset_path+filenames)"
   ]
  },
  {
   "cell_type": "code",
   "execution_count": null,
   "metadata": {},
   "outputs": [],
   "source": [
    "#Read all the FACS encoding from excel sheet specific to each video's and combine everything into single excel sheet\n",
    "#By reading specific action units presrnt in the dataset.\n",
    "all_data = pd.DataFrame()\n",
    "dict_con = {\"A\":\"1\",\"B\":\"2\",\"C\":\"3\",\"D\":\"4\"}\n",
    "for i in range(len(file_location)):\n",
    "    df = pd.read_excel(file_location[i])\n",
    "    loc_split = file_location[i].split(\"/\")\n",
    "    con_split = loc_split[8].split(\"_\")\n",
    "    con = dict_con[con_split[1]]\n",
    "    df[\"ID_val\"] = loc_split[7]\n",
    "    df[\"Con\"] = con\n",
    "    print(loc_split)\n",
    "    df_upd = df[['ID_val','Con','Timecode','AU1','AU2','AU4','AU5','AU6','AU7','AU9','AU10','AU11','AU12','AU14','AU15','AU16','AU17','AU22','AU23','AU24','AU25','AU26','AU27']]\n",
    "    df_new = df_upd[df_upd['Timecode']>0]\n",
    "    all_data = all_data.append(df_new)"
   ]
  },
  {
   "cell_type": "code",
   "execution_count": 5,
   "metadata": {
    "collapsed": true
   },
   "outputs": [],
   "source": [
    "#Combine dexcel sheet which contains recording for all the video's\n",
    "all_data.to_csv(\"purl2_data1.csv\", sep=',', encoding='utf-8')\n",
    "#all_data"
   ]
  },
  {
   "cell_type": "code",
   "execution_count": null,
   "metadata": {
    "collapsed": true
   },
   "outputs": [],
   "source": []
  },
  {
   "cell_type": "code",
   "execution_count": null,
   "metadata": {
    "collapsed": true
   },
   "outputs": [],
   "source": []
  }
 ],
 "metadata": {
  "kernelspec": {
   "display_name": "Python 3",
   "language": "python",
   "name": "python3"
  },
  "language_info": {
   "codemirror_mode": {
    "name": "ipython",
    "version": 3
   },
   "file_extension": ".py",
   "mimetype": "text/x-python",
   "name": "python",
   "nbconvert_exporter": "python",
   "pygments_lexer": "ipython3",
   "version": "3.6.3"
  }
 },
 "nbformat": 4,
 "nbformat_minor": 2
}
